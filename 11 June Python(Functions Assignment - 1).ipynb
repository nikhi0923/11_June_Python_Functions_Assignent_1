{
 "cells": [
  {
   "cell_type": "markdown",
   "id": "088c0027",
   "metadata": {},
   "source": [
    "1.a lambda function (also known as an anonymous function or a lambda expression) is a way to define small, simple, and often throwaway functions using a compact syntax. Lambda functions are defined using the lambda keyword, followed by a list of arguments, a colon, and the expression to be evaluated and returned.\n",
    "\n",
    " lambda functions are a convenient way to define small, simple functions on the fly, but they're not a replacement for regular functions, especially when you need more complex logic, better readability, and maintainability in your code."
   ]
  },
  {
   "cell_type": "code",
   "execution_count": 4,
   "id": "9d77f722",
   "metadata": {},
   "outputs": [
    {
     "name": "stdout",
     "output_type": "stream",
     "text": [
      "8\n"
     ]
    }
   ],
   "source": [
    "add = lambda x, y: x + y\n",
    "result = add(5, 3) \n",
    "print(result)\n"
   ]
  },
  {
   "cell_type": "markdown",
   "id": "33b83bd3",
   "metadata": {},
   "source": [
    "2.Yes, a lambda function in Python can have multiple arguments. The syntax for defining a lambda function with multiple arguments is the same as for a single argument, except you provide a comma-separated list of arguments.\n",
    "\n",
    "Lambda functions with multiple arguments are particularly useful when you need to pass functions as arguments to other functions, such as in sorting or filtering operations, where you want to specify custom comparison or filtering criteria."
   ]
  },
  {
   "cell_type": "code",
   "execution_count": 6,
   "id": "54be28df",
   "metadata": {},
   "outputs": [
    {
     "name": "stdout",
     "output_type": "stream",
     "text": [
      "Hello, how are you?\n"
     ]
    }
   ],
   "source": [
    "combine_strings = lambda a, b, c: a + b + c\n",
    "result = combine_strings(\"Hello, \", \"how \", \"are you?\")\n",
    "print(result)\n"
   ]
  },
  {
   "cell_type": "markdown",
   "id": "35d47ef4",
   "metadata": {},
   "source": [
    "3.Lambda functions in Python are commonly used for situations where you need to define small, simple functions on the fly, often as arguments to other functions.\n",
    "\n",
    "One common use case for lambda functions is with the built-in sorted() function. The sorted() function allows you to sort a list or other iterable using a custom sorting key. You can pass a lambda function as the key argument to specify the sorting criterion."
   ]
  },
  {
   "cell_type": "code",
   "execution_count": 7,
   "id": "db85eeed",
   "metadata": {},
   "outputs": [
    {
     "name": "stdout",
     "output_type": "stream",
     "text": [
      "[{'name': 'Eve', 'score': 78}, {'name': 'Alice', 'score': 85}, {'name': 'Bob', 'score': 92}]\n"
     ]
    }
   ],
   "source": [
    "students = [\n",
    "    {\"name\": \"Alice\", \"score\": 85},\n",
    "    {\"name\": \"Bob\", \"score\": 92},\n",
    "    {\"name\": \"Eve\", \"score\": 78},\n",
    "]\n",
    "\n",
    "sorted_students = sorted(students, key=lambda student: student[\"score\"])\n",
    "print(sorted_students)\n"
   ]
  },
  {
   "cell_type": "markdown",
   "id": "3e8f2bd6",
   "metadata": {},
   "source": [
    "4.Advantages of Lambda Functions:\n",
    "\n",
    "Conciseness: Lambda functions allow you to define simple functions in a compact manner, which is especially useful for short operations where a full function definition might be overkill.\n",
    "\n",
    "Inline Usage: Lambda functions can be defined directly where they are used as arguments to other functions, reducing the need to name and define functions separately.\n",
    "\n",
    "Functional Programming: Lambda functions fit well with functional programming concepts like mapping, filtering, and sorting. They can make your code more expressive when you need to define small, specialized functions for these operations.\n",
    "\n",
    "Reduced Clutter: Lambda functions can help reduce the number of named functions cluttering your codebase, especially for functions that are only used in one place.\n",
    "\n",
    "Limitations of Lambda Functions:\n",
    "\n",
    "Limited Expressiveness: Lambda functions are limited to single expressions; they can't contain multiple statements, assignments, or complex logic. This can make them unsuitable for more intricate operations.\n",
    "\n",
    "Readability: While lambda functions can be concise, they can also make code less readable, especially if the expressions become too complex. Named functions with well-chosen names and proper documentation are often more understandable.\n",
    "\n",
    "Lack of Documentation: Lambda functions don't allow for docstrings or other forms of documentation, making it harder to understand their purpose and behavior, especially for other developers.\n",
    "\n",
    "Debugging: When lambda functions cause errors, the traceback might only show that the error occurred within a lambda function, making it harder to identify the specific problem.\n",
    "\n",
    "Naming: Lambda functions are anonymous, so they lack meaningful names. This can hinder debugging and understanding when multiple lambda functions are used in the same context.\n",
    "\n",
    "Limited Reusability: Since lambda functions are anonymous, they can't be reused in multiple places within your codebase, unlike regular functions that can be called from anywhere.\n",
    "\n",
    "Scope Confusion: The scope of variables inside a lambda function can sometimes be less intuitive, especially when using variables from outer scopes. This can lead to unexpected behavior if not handled carefully.\n",
    "\n",
    "In summary, lambda functions are a valuable tool for creating simple, inline functions for specific tasks, especially when working with functional programming paradigms. However, their limitations in terms of complexity, readability, and reusability mean that they are best suited for concise expressions and straightforward operations. For more complex and reusable functions, regular named functions are generally preferred.\n",
    "\n",
    "\n",
    "\n",
    "\n",
    "\n"
   ]
  },
  {
   "cell_type": "markdown",
   "id": "2cf9855a",
   "metadata": {},
   "source": [
    "5.lambda functions in Python can access variables defined outside of their own scope. They have access to variables from the surrounding scope (enclosing scope) in which they are defined. This concept is known as \"lexical scoping\" or \"closures.\""
   ]
  },
  {
   "cell_type": "code",
   "execution_count": 8,
   "id": "8c965cfa",
   "metadata": {},
   "outputs": [
    {
     "name": "stdout",
     "output_type": "stream",
     "text": [
      "18\n"
     ]
    }
   ],
   "source": [
    "def outer_function(x):\n",
    "    y = 10\n",
    "    return lambda z: x + y + z\n",
    "\n",
    "inner_lambda = outer_function(5)\n",
    "result = inner_lambda(3) \n",
    "\n",
    "print(result)\n"
   ]
  },
  {
   "cell_type": "code",
   "execution_count": 9,
   "id": "4f0fe9ba",
   "metadata": {},
   "outputs": [
    {
     "name": "stdout",
     "output_type": "stream",
     "text": [
      "25\n"
     ]
    }
   ],
   "source": [
    "#6\n",
    "square = lambda x: x ** 2\n",
    "\n",
    "number = 5\n",
    "result = square(number)  \n",
    "print(result)\n"
   ]
  },
  {
   "cell_type": "code",
   "execution_count": 10,
   "id": "ccf73aab",
   "metadata": {},
   "outputs": [
    {
     "name": "stdout",
     "output_type": "stream",
     "text": [
      "20\n"
     ]
    }
   ],
   "source": [
    "#7\n",
    "numbers = [10, 5, 20, 8, 15]\n",
    "\n",
    "find_max = lambda lst: max(lst)\n",
    "\n",
    "max_value = find_max(numbers)\n",
    "print(max_value)  \n"
   ]
  },
  {
   "cell_type": "code",
   "execution_count": 11,
   "id": "481c23b2",
   "metadata": {},
   "outputs": [
    {
     "name": "stdout",
     "output_type": "stream",
     "text": [
      "[10, 20, 8]\n"
     ]
    }
   ],
   "source": [
    "#8\n",
    "numbers = [10, 5, 20, 8, 15]\n",
    "\n",
    "filter_even = lambda lst: list(filter(lambda x: x % 2 == 0, lst))\n",
    "\n",
    "even_numbers = filter_even(numbers)\n",
    "print(even_numbers) \n"
   ]
  },
  {
   "cell_type": "code",
   "execution_count": 12,
   "id": "7ebb815a",
   "metadata": {},
   "outputs": [
    {
     "name": "stdout",
     "output_type": "stream",
     "text": [
      "['date', 'apple', 'banana', 'cherry', 'elderberry']\n"
     ]
    }
   ],
   "source": [
    "#9\n",
    "strings = [\"apple\", \"banana\", \"cherry\", \"date\", \"elderberry\"]\n",
    "\n",
    "sort_by_length = lambda lst: sorted(lst, key=lambda x: len(x))\n",
    "\n",
    "sorted_strings = sort_by_length(strings)\n",
    "print(sorted_strings)  "
   ]
  },
  {
   "cell_type": "code",
   "execution_count": 13,
   "id": "75bb324a",
   "metadata": {},
   "outputs": [
    {
     "name": "stdout",
     "output_type": "stream",
     "text": [
      "[3, 4, 5]\n"
     ]
    }
   ],
   "source": [
    "#10\n",
    "list1 = [1, 2, 3, 4, 5]\n",
    "list2 = [3, 4, 5, 6, 7]\n",
    "\n",
    "find_common_elements = lambda lst1, lst2: list(filter(lambda x: x in lst2, lst1))\n",
    "\n",
    "common_elements = find_common_elements(list1, list2)\n",
    "print(common_elements) "
   ]
  },
  {
   "cell_type": "code",
   "execution_count": 14,
   "id": "cf72bdd1",
   "metadata": {},
   "outputs": [
    {
     "name": "stdout",
     "output_type": "stream",
     "text": [
      "The factorial of 5 is 120\n"
     ]
    }
   ],
   "source": [
    "#11\n",
    "def factorial(n):\n",
    "    if n == 0 or n == 1:\n",
    "        return 1\n",
    "    else:\n",
    "        return n * factorial(n - 1)\n",
    "\n",
    "number = 5\n",
    "result = factorial(number)\n",
    "print(f\"The factorial of {number} is {result}\")  \n"
   ]
  },
  {
   "cell_type": "code",
   "execution_count": 15,
   "id": "0b6a85d8",
   "metadata": {},
   "outputs": [
    {
     "name": "stdout",
     "output_type": "stream",
     "text": [
      "The 6th Fibonacci number is 8\n"
     ]
    }
   ],
   "source": [
    "#12\n",
    "def fibonacci(n):\n",
    "    if n <= 0:\n",
    "        return 0\n",
    "    elif n == 1:\n",
    "        return 1\n",
    "    else:\n",
    "        return fibonacci(n - 1) + fibonacci(n - 2)\n",
    "\n",
    "n = 6\n",
    "result = fibonacci(n)\n",
    "print(f\"The {n}th Fibonacci number is {result}\")  "
   ]
  },
  {
   "cell_type": "code",
   "execution_count": 16,
   "id": "a30b1ead",
   "metadata": {},
   "outputs": [
    {
     "name": "stdout",
     "output_type": "stream",
     "text": [
      "The sum of the elements in the list is 15\n"
     ]
    }
   ],
   "source": [
    "#13\n",
    "def recursive_sum(lst):\n",
    "    if not lst:\n",
    "        return 0\n",
    "    else:\n",
    "        return lst[0] + recursive_sum(lst[1:])\n",
    "\n",
    "numbers = [1, 2, 3, 4, 5]\n",
    "result = recursive_sum(numbers)\n",
    "print(f\"The sum of the elements in the list is {result}\")  "
   ]
  },
  {
   "cell_type": "code",
   "execution_count": 17,
   "id": "e847ec13",
   "metadata": {},
   "outputs": [
    {
     "name": "stdout",
     "output_type": "stream",
     "text": [
      "'racecar' is a palindrome: True\n",
      "'hello' is a palindrome: False\n"
     ]
    }
   ],
   "source": [
    "#14\n",
    "def is_palindrome(s):\n",
    "    s = s.lower()  # Convert to lowercase for case-insensitive comparison\n",
    "    if len(s) <= 1:\n",
    "        return True\n",
    "    elif s[0] != s[-1]:\n",
    "        return False\n",
    "    else:\n",
    "        return is_palindrome(s[1:-1])\n",
    "\n",
    "string1 = \"racecar\"\n",
    "string2 = \"hello\"\n",
    "\n",
    "print(f\"'{string1}' is a palindrome: {is_palindrome(string1)}\")  \n",
    "print(f\"'{string2}' is a palindrome: {is_palindrome(string2)}\")  "
   ]
  },
  {
   "cell_type": "code",
   "execution_count": 18,
   "id": "270e30d1",
   "metadata": {},
   "outputs": [
    {
     "name": "stdout",
     "output_type": "stream",
     "text": [
      "The GCD of 48 and 18 is 6\n"
     ]
    }
   ],
   "source": [
    "#15\n",
    "def gcd(a, b):\n",
    "    if b == 0:\n",
    "        return a\n",
    "    else:\n",
    "        return gcd(b, a % b)\n",
    "\n",
    "num1 = 48\n",
    "num2 = 18\n",
    "\n",
    "result = gcd(num1, num2)\n",
    "print(f\"The GCD of {num1} and {num2} is {result}\")  \n"
   ]
  },
  {
   "cell_type": "code",
   "execution_count": null,
   "id": "19abc314",
   "metadata": {},
   "outputs": [],
   "source": []
  }
 ],
 "metadata": {
  "kernelspec": {
   "display_name": "Python 3 (ipykernel)",
   "language": "python",
   "name": "python3"
  },
  "language_info": {
   "codemirror_mode": {
    "name": "ipython",
    "version": 3
   },
   "file_extension": ".py",
   "mimetype": "text/x-python",
   "name": "python",
   "nbconvert_exporter": "python",
   "pygments_lexer": "ipython3",
   "version": "3.10.9"
  }
 },
 "nbformat": 4,
 "nbformat_minor": 5
}
